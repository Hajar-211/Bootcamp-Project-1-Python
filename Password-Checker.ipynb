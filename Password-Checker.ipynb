{
 "cells": [
  {
   "cell_type": "code",
   "execution_count": 9,
   "metadata": {},
   "outputs": [
    {
     "name": "stdout",
     "output_type": "stream",
     "text": [
      "Enter your Password: yteew\n",
      "Your password is strong in length\n",
      "Password must contain at least one uppercase character!\n",
      "Password must contain at least one digit!\n",
      "Password must contain at least one special character!\n",
      "Password must be at least 6 characters long!\n",
      "The hash of the password is: d1c58c7a0d0e101d16808d023225e9b7fb935c8da90d5bfb610290f16782e2c5\n"
     ]
    }
   ],
   "source": [
    "import string\n",
    "import hashlib\n",
    "\n",
    "def check_password_strength(password):\n",
    "    # Define lambda functions to check if the password contains at least one uppercase letter, one lowercase letter, one digit, and one special character\n",
    "    has_uppercase = lambda s: any(c.isupper() for c in s)\n",
    "    has_lowercase = lambda s: any(c.islower() for c in s)\n",
    "    has_digit = lambda s: any(c.isdigit() for c in s)\n",
    "    has_special = lambda s: any(not c.isalnum() for c in s)\n",
    "    characters = [has_uppercase, has_lowercase, has_special, has_digit]\n",
    "    \n",
    "    length = len(password)\n",
    "     # Define some common password the users used\n",
    "    \n",
    "    common_passwords = ['password', '123456', 'qwerty', 'letmein', 'admin', 'welcome', 'monkey', 'dragon', 'baseball', 'football','1234']\n",
    "    if password in common_passwords:\n",
    "        return 'Password found in the common passwords'\n",
    "    \n",
    "     \n",
    "    \n",
    "    if length < 2:\n",
    "        print( 'Your password is weak in length')\n",
    "        \n",
    "    elif length == 3:\n",
    "        print('Your password is ok in length')\n",
    "    elif length == 4:\n",
    "        print('Your password is good in length')\n",
    "    else:\n",
    "        print('Your password is strong in length')\n",
    "    \n",
    "    \n",
    "    has_lower = has_lowercase(password)\n",
    "    has_upper = has_uppercase(password)\n",
    "    has_digit = has_digit(password)\n",
    "    has_spec = has_special(password)\n",
    "    # Check if the password meets the minimum requirements\n",
    "    requirements = []\n",
    "    \n",
    "    if not has_upper:\n",
    "        requirements.append(\"Password must contain at least one uppercase character!\")\n",
    "    if not has_lower:\n",
    "        requirements.append(\"Password must contain at least one lowercase character!\")\n",
    "    if not has_digit:\n",
    "        requirements.append(\"Password must contain at least one digit!\")\n",
    "    if not has_spec:\n",
    "        requirements.append(\"Password must contain at least one special character!\")\n",
    "    \n",
    "    if length < 6:\n",
    "        requirements.append(\"Password must be at least 6 characters long!\")\n",
    "    \n",
    "    if requirements:\n",
    "        return \"\\n\".join(requirements)\n",
    "    else:\n",
    "        return f\"Password strength is {strength}\"\n",
    "\n",
    "password = input('Enter your Password: ')\n",
    "\n",
    "result = check_password_strength(password)\n",
    "\n",
    "print(result)\n",
    "\n",
    "# Calculate the SHA256 hash of the password\n",
    "hash_object = hashlib.sha256(password.encode())\n",
    "hash_hex = hash_object.hexdigest()\n",
    "\n",
    "print(f\"The hash of the password is: {hash_hex}\")"
   ]
  },
  {
   "cell_type": "code",
   "execution_count": null,
   "metadata": {},
   "outputs": [],
   "source": []
  }
 ],
 "metadata": {
  "kernelspec": {
   "display_name": "Python 3",
   "language": "python",
   "name": "python3"
  },
  "language_info": {
   "codemirror_mode": {
    "name": "ipython",
    "version": 3
   },
   "file_extension": ".py",
   "mimetype": "text/x-python",
   "name": "python",
   "nbconvert_exporter": "python",
   "pygments_lexer": "ipython3",
   "version": "3.8.5"
  }
 },
 "nbformat": 4,
 "nbformat_minor": 4
}
